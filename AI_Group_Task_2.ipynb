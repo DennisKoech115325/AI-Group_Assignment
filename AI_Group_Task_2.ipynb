{
  "nbformat": 4,
  "nbformat_minor": 0,
  "metadata": {
    "colab": {
      "name": "AI Group Task 2.ipynb",
      "provenance": [],
      "collapsed_sections": [],
      "authorship_tag": "ABX9TyPsdvX7WkVJKq0pyyVsBvrU",
      "include_colab_link": true
    },
    "kernelspec": {
      "name": "python3",
      "display_name": "Python 3"
    },
    "language_info": {
      "name": "python"
    }
  },
  "cells": [
    {
      "cell_type": "markdown",
      "metadata": {
        "id": "view-in-github",
        "colab_type": "text"
      },
      "source": [
        "<a href=\"https://colab.research.google.com/github/DennisKoech115325/AI-Group_Assignment/blob/main/AI_Group_Task_2.ipynb\" target=\"_parent\"><img src=\"https://colab.research.google.com/assets/colab-badge.svg\" alt=\"Open In Colab\"/></a>"
      ]
    },
    {
      "cell_type": "code",
      "metadata": {
        "id": "yR-FBG-Vd8h4"
      },
      "source": [
        "import pandas as pd #datat set library\n",
        "import numpy as np #linear algebra library"
      ],
      "execution_count": 923,
      "outputs": []
    },
    {
      "cell_type": "code",
      "metadata": {
        "id": "CWnRkq1Xgz5M"
      },
      "source": [
        "from numpy import array\n",
        "from sklearn.preprocessing import Normalizer\n",
        "from keras.activations import sigmoid\n",
        "from keras.losses import mse\n",
        "from numpy.random import uniform,normal"
      ],
      "execution_count": 924,
      "outputs": []
    },
    {
      "cell_type": "markdown",
      "metadata": {
        "id": "wCnV23minYNl"
      },
      "source": [
        "Hyperparameters"
      ]
    },
    {
      "cell_type": "code",
      "metadata": {
        "colab": {
          "base_uri": "https://localhost:8080/"
        },
        "id": "16fkJX-GnW3A",
        "outputId": "f78ba485-dcb9-4264-c5fb-25a197c75339"
      },
      "source": [
        "batch_size = 2\n",
        "learning_rate = uniform(0,1)\n",
        "learning_rate"
      ],
      "execution_count": 925,
      "outputs": [
        {
          "output_type": "execute_result",
          "data": {
            "text/plain": [
              "0.25813488703882026"
            ]
          },
          "metadata": {},
          "execution_count": 925
        }
      ]
    },
    {
      "cell_type": "code",
      "metadata": {
        "id": "qvszF_YQg3bX"
      },
      "source": [
        "data_dict={'Day 1':[30,40,50,20,15,60],'Day 2':[40,50,20,15,60,70],\n",
        "           'Day 3':[50,20,15,60,70,50],'Target':[20,15,60,70,50,40]}"
      ],
      "execution_count": 926,
      "outputs": []
    },
    {
      "cell_type": "code",
      "metadata": {
        "id": "6NKTrzB3hPX1"
      },
      "source": [
        "data = pd.DataFrame(data_dict)"
      ],
      "execution_count": 927,
      "outputs": []
    },
    {
      "cell_type": "code",
      "metadata": {
        "colab": {
          "base_uri": "https://localhost:8080/",
          "height": 238
        },
        "id": "QgvzOHMxiuBS",
        "outputId": "b2f0487a-b55c-4b0b-8cdb-18339868800c"
      },
      "source": [
        "data"
      ],
      "execution_count": 928,
      "outputs": [
        {
          "output_type": "execute_result",
          "data": {
            "text/html": [
              "<div>\n",
              "<style scoped>\n",
              "    .dataframe tbody tr th:only-of-type {\n",
              "        vertical-align: middle;\n",
              "    }\n",
              "\n",
              "    .dataframe tbody tr th {\n",
              "        vertical-align: top;\n",
              "    }\n",
              "\n",
              "    .dataframe thead th {\n",
              "        text-align: right;\n",
              "    }\n",
              "</style>\n",
              "<table border=\"1\" class=\"dataframe\">\n",
              "  <thead>\n",
              "    <tr style=\"text-align: right;\">\n",
              "      <th></th>\n",
              "      <th>Day 1</th>\n",
              "      <th>Day 2</th>\n",
              "      <th>Day 3</th>\n",
              "      <th>Target</th>\n",
              "    </tr>\n",
              "  </thead>\n",
              "  <tbody>\n",
              "    <tr>\n",
              "      <th>0</th>\n",
              "      <td>30</td>\n",
              "      <td>40</td>\n",
              "      <td>50</td>\n",
              "      <td>20</td>\n",
              "    </tr>\n",
              "    <tr>\n",
              "      <th>1</th>\n",
              "      <td>40</td>\n",
              "      <td>50</td>\n",
              "      <td>20</td>\n",
              "      <td>15</td>\n",
              "    </tr>\n",
              "    <tr>\n",
              "      <th>2</th>\n",
              "      <td>50</td>\n",
              "      <td>20</td>\n",
              "      <td>15</td>\n",
              "      <td>60</td>\n",
              "    </tr>\n",
              "    <tr>\n",
              "      <th>3</th>\n",
              "      <td>20</td>\n",
              "      <td>15</td>\n",
              "      <td>60</td>\n",
              "      <td>70</td>\n",
              "    </tr>\n",
              "    <tr>\n",
              "      <th>4</th>\n",
              "      <td>15</td>\n",
              "      <td>60</td>\n",
              "      <td>70</td>\n",
              "      <td>50</td>\n",
              "    </tr>\n",
              "    <tr>\n",
              "      <th>5</th>\n",
              "      <td>60</td>\n",
              "      <td>70</td>\n",
              "      <td>50</td>\n",
              "      <td>40</td>\n",
              "    </tr>\n",
              "  </tbody>\n",
              "</table>\n",
              "</div>"
            ],
            "text/plain": [
              "   Day 1  Day 2  Day 3  Target\n",
              "0     30     40     50      20\n",
              "1     40     50     20      15\n",
              "2     50     20     15      60\n",
              "3     20     15     60      70\n",
              "4     15     60     70      50\n",
              "5     60     70     50      40"
            ]
          },
          "metadata": {},
          "execution_count": 928
        }
      ]
    },
    {
      "cell_type": "code",
      "metadata": {
        "id": "FljQvvVnistp"
      },
      "source": [
        "X = data.drop('Target',axis=1)\n",
        "Y = data['Target']"
      ],
      "execution_count": 929,
      "outputs": []
    },
    {
      "cell_type": "code",
      "metadata": {
        "colab": {
          "base_uri": "https://localhost:8080/",
          "height": 238
        },
        "id": "5UuifuWBi_EP",
        "outputId": "c1db8154-0595-419f-d825-35493f7b9a9f"
      },
      "source": [
        "X"
      ],
      "execution_count": 930,
      "outputs": [
        {
          "output_type": "execute_result",
          "data": {
            "text/html": [
              "<div>\n",
              "<style scoped>\n",
              "    .dataframe tbody tr th:only-of-type {\n",
              "        vertical-align: middle;\n",
              "    }\n",
              "\n",
              "    .dataframe tbody tr th {\n",
              "        vertical-align: top;\n",
              "    }\n",
              "\n",
              "    .dataframe thead th {\n",
              "        text-align: right;\n",
              "    }\n",
              "</style>\n",
              "<table border=\"1\" class=\"dataframe\">\n",
              "  <thead>\n",
              "    <tr style=\"text-align: right;\">\n",
              "      <th></th>\n",
              "      <th>Day 1</th>\n",
              "      <th>Day 2</th>\n",
              "      <th>Day 3</th>\n",
              "    </tr>\n",
              "  </thead>\n",
              "  <tbody>\n",
              "    <tr>\n",
              "      <th>0</th>\n",
              "      <td>30</td>\n",
              "      <td>40</td>\n",
              "      <td>50</td>\n",
              "    </tr>\n",
              "    <tr>\n",
              "      <th>1</th>\n",
              "      <td>40</td>\n",
              "      <td>50</td>\n",
              "      <td>20</td>\n",
              "    </tr>\n",
              "    <tr>\n",
              "      <th>2</th>\n",
              "      <td>50</td>\n",
              "      <td>20</td>\n",
              "      <td>15</td>\n",
              "    </tr>\n",
              "    <tr>\n",
              "      <th>3</th>\n",
              "      <td>20</td>\n",
              "      <td>15</td>\n",
              "      <td>60</td>\n",
              "    </tr>\n",
              "    <tr>\n",
              "      <th>4</th>\n",
              "      <td>15</td>\n",
              "      <td>60</td>\n",
              "      <td>70</td>\n",
              "    </tr>\n",
              "    <tr>\n",
              "      <th>5</th>\n",
              "      <td>60</td>\n",
              "      <td>70</td>\n",
              "      <td>50</td>\n",
              "    </tr>\n",
              "  </tbody>\n",
              "</table>\n",
              "</div>"
            ],
            "text/plain": [
              "   Day 1  Day 2  Day 3\n",
              "0     30     40     50\n",
              "1     40     50     20\n",
              "2     50     20     15\n",
              "3     20     15     60\n",
              "4     15     60     70\n",
              "5     60     70     50"
            ]
          },
          "metadata": {},
          "execution_count": 930
        }
      ]
    },
    {
      "cell_type": "code",
      "metadata": {
        "colab": {
          "base_uri": "https://localhost:8080/"
        },
        "id": "d5mu5MNqjAO9",
        "outputId": "2e982646-70bd-43e1-cdc9-2642e4e548c8"
      },
      "source": [
        "np.reshape(array(Y),(-1,1))"
      ],
      "execution_count": 931,
      "outputs": [
        {
          "output_type": "execute_result",
          "data": {
            "text/plain": [
              "array([[20],\n",
              "       [15],\n",
              "       [60],\n",
              "       [70],\n",
              "       [50],\n",
              "       [40]])"
            ]
          },
          "metadata": {},
          "execution_count": 931
        }
      ]
    },
    {
      "cell_type": "code",
      "metadata": {
        "id": "dkYs1nHgh4nc"
      },
      "source": [
        "X_trans = Normalizer(norm='max').fit_transform(X)"
      ],
      "execution_count": 932,
      "outputs": []
    },
    {
      "cell_type": "code",
      "metadata": {
        "id": "ThfW0Gjxj4lh"
      },
      "source": [
        "Y_trans = Normalizer(norm='max').fit_transform(np.reshape(array(Y),(1,-1)))"
      ],
      "execution_count": 933,
      "outputs": []
    },
    {
      "cell_type": "code",
      "metadata": {
        "colab": {
          "base_uri": "https://localhost:8080/"
        },
        "id": "yvA3xTtIjPWS",
        "outputId": "ce257069-f846-4868-f40d-e370129465c4"
      },
      "source": [
        "X_trans"
      ],
      "execution_count": 934,
      "outputs": [
        {
          "output_type": "execute_result",
          "data": {
            "text/plain": [
              "array([[0.6       , 0.8       , 1.        ],\n",
              "       [0.8       , 1.        , 0.4       ],\n",
              "       [1.        , 0.4       , 0.3       ],\n",
              "       [0.33333333, 0.25      , 1.        ],\n",
              "       [0.21428571, 0.85714286, 1.        ],\n",
              "       [0.85714286, 1.        , 0.71428571]])"
            ]
          },
          "metadata": {},
          "execution_count": 934
        }
      ]
    },
    {
      "cell_type": "code",
      "metadata": {
        "colab": {
          "base_uri": "https://localhost:8080/"
        },
        "id": "xgY28yzDkAz1",
        "outputId": "7337f585-b932-4ea5-ff54-2b5778c167b8"
      },
      "source": [
        "Y_trans"
      ],
      "execution_count": 935,
      "outputs": [
        {
          "output_type": "execute_result",
          "data": {
            "text/plain": [
              "array([[0.28571429, 0.21428571, 0.85714286, 1.        , 0.71428571,\n",
              "        0.57142857]])"
            ]
          },
          "metadata": {},
          "execution_count": 935
        }
      ]
    },
    {
      "cell_type": "markdown",
      "metadata": {
        "id": "Nnqbj6YzlTI3"
      },
      "source": [
        "ANN MODEL FROM MAX"
      ]
    },
    {
      "cell_type": "code",
      "metadata": {
        "colab": {
          "base_uri": "https://localhost:8080/"
        },
        "id": "VCzhell3ri9i",
        "outputId": "9dbc7c4b-f943-43ff-b2fe-2305f76343ab"
      },
      "source": [
        "weight_1 = uniform(-1,1,(3,2))\n",
        "weight_1"
      ],
      "execution_count": 936,
      "outputs": [
        {
          "output_type": "execute_result",
          "data": {
            "text/plain": [
              "array([[ 0.92054611,  0.39178613],\n",
              "       [ 0.8837553 , -0.52314193],\n",
              "       [ 0.45322034, -0.73180173]])"
            ]
          },
          "metadata": {},
          "execution_count": 936
        }
      ]
    },
    {
      "cell_type": "code",
      "metadata": {
        "colab": {
          "base_uri": "https://localhost:8080/"
        },
        "id": "RVziiRFfr5XM",
        "outputId": "c15b694c-957c-407e-d6b6-ccd64a886628"
      },
      "source": [
        "weight_2 = uniform(-1,1,(2,1))\n",
        "weight_2"
      ],
      "execution_count": 937,
      "outputs": [
        {
          "output_type": "execute_result",
          "data": {
            "text/plain": [
              "array([[-0.98823118],\n",
              "       [ 0.12098553]])"
            ]
          },
          "metadata": {},
          "execution_count": 937
        }
      ]
    },
    {
      "cell_type": "code",
      "metadata": {
        "colab": {
          "base_uri": "https://localhost:8080/"
        },
        "id": "4VM2JO-1EziF",
        "outputId": "be7b13c1-f070-4b57-ce5a-6408b3d63c40"
      },
      "source": [
        "ANN_function()"
      ],
      "execution_count": 938,
      "outputs": [
        {
          "output_type": "execute_result",
          "data": {
            "text/plain": [
              "3.1256142890528014"
            ]
          },
          "metadata": {},
          "execution_count": 938
        }
      ]
    },
    {
      "cell_type": "code",
      "metadata": {
        "id": "bR4GzHcOAyDy"
      },
      "source": [
        "for i in range(100):\n",
        "  x = ANN_function()\n",
        "  \"\"\"weight_1 = delta_weight1(x,weight_1)\n",
        "  weight_2 = delta_weight2(x,weight_2)\"\"\""
      ],
      "execution_count": 939,
      "outputs": []
    },
    {
      "cell_type": "code",
      "metadata": {
        "id": "BoZNcz6T2z3T"
      },
      "source": [
        "def ANN_function():\n",
        "  sum_mse = 0\n",
        "  i = 0\n",
        "  y = i\n",
        "  for i in range(0,3):\n",
        "    output_1 = X_trans[y:batch_size+y]@weight_1\n",
        "    act_out1 = sigmoid(output_1).numpy()\n",
        "    final_out = act_out1@weight_2\n",
        "    true_y = Y_trans[0][0:batch_size]\n",
        "    pred_y = final_out.T[0]\n",
        "    x = mse(true_y,pred_y).numpy()\n",
        "    y += 2\n",
        "    sum_mse += x\n",
        "  return sum_mse"
      ],
      "execution_count": 940,
      "outputs": []
    },
    {
      "cell_type": "code",
      "metadata": {
        "id": "mVs4PDkP8bU3"
      },
      "source": [
        "def delta_weight1(fmse, cur_w1 = []):\n",
        "  cur_w1 = cur_w1 + (cur_w1 * learning_rate * fmse)\n",
        "  return cur_w1"
      ],
      "execution_count": 941,
      "outputs": []
    },
    {
      "cell_type": "code",
      "metadata": {
        "id": "0_k1h3Gu-9uW"
      },
      "source": [
        "def delta_weight2(fmse, cur_w2 = []):\n",
        "  cur_w2 = cur_w2 + (learning_rate * fmse * cur_w2)\n",
        "  return cur_w2"
      ],
      "execution_count": 942,
      "outputs": []
    },
    {
      "cell_type": "markdown",
      "metadata": {
        "id": "XgFvEA7a6sII"
      },
      "source": [
        "Below isnt necessary"
      ]
    },
    {
      "cell_type": "code",
      "metadata": {
        "colab": {
          "base_uri": "https://localhost:8080/"
        },
        "id": "3wSsvscYng0Y",
        "outputId": "6828f463-fcc0-4bb7-a489-90f5cb9a5f0f"
      },
      "source": [
        "X_trans[0:batch_size]"
      ],
      "execution_count": 943,
      "outputs": [
        {
          "output_type": "execute_result",
          "data": {
            "text/plain": [
              "array([[0.6, 0.8, 1. ],\n",
              "       [0.8, 1. , 0.4]])"
            ]
          },
          "metadata": {},
          "execution_count": 943
        }
      ]
    },
    {
      "cell_type": "code",
      "metadata": {
        "colab": {
          "base_uri": "https://localhost:8080/"
        },
        "id": "gwqpDKUhmRsR",
        "outputId": "65dab282-181e-4868-bf52-cd3410e01b4c"
      },
      "source": [
        "output_1 = X_trans[0:batch_size]@weight_1\n",
        "output_1"
      ],
      "execution_count": 944,
      "outputs": [
        {
          "output_type": "execute_result",
          "data": {
            "text/plain": [
              "array([[ 1.71255225, -0.9152436 ],\n",
              "       [ 1.80148033, -0.50243372]])"
            ]
          },
          "metadata": {},
          "execution_count": 944
        }
      ]
    },
    {
      "cell_type": "code",
      "metadata": {
        "colab": {
          "base_uri": "https://localhost:8080/"
        },
        "id": "Hyje13ptmsKE",
        "outputId": "92ce30bc-21dd-4d68-8e8f-2ccce946bcf0"
      },
      "source": [
        "act_out1 = sigmoid(output_1).numpy()\n",
        "act_out1"
      ],
      "execution_count": 945,
      "outputs": [
        {
          "output_type": "execute_result",
          "data": {
            "text/plain": [
              "array([[0.84716703, 0.28592803],\n",
              "       [0.85832904, 0.37696891]])"
            ]
          },
          "metadata": {},
          "execution_count": 945
        }
      ]
    },
    {
      "cell_type": "code",
      "metadata": {
        "colab": {
          "base_uri": "https://localhost:8080/"
        },
        "id": "FOWg0TUgmunV",
        "outputId": "89f96c99-fa40-427e-f9f4-4e01e84076f4"
      },
      "source": [
        "final_out = act_out1@weight_2\n",
        "final_out"
      ],
      "execution_count": 946,
      "outputs": [
        {
          "output_type": "execute_result",
          "data": {
            "text/plain": [
              "array([[-0.80260372],\n",
              "       [-0.80261974]])"
            ]
          },
          "metadata": {},
          "execution_count": 946
        }
      ]
    },
    {
      "cell_type": "markdown",
      "metadata": {
        "id": "sMilqSU3oGJ0"
      },
      "source": [
        "Above is done with forward propagation"
      ]
    },
    {
      "cell_type": "markdown",
      "metadata": {
        "id": "9QjZhersoMVE"
      },
      "source": [
        "Compute MSE"
      ]
    },
    {
      "cell_type": "code",
      "metadata": {
        "id": "6QU0NBrEoeg1"
      },
      "source": [
        "true_y = Y_trans[0][0:batch_size]\n",
        "pred_y = final_out.T[0]"
      ],
      "execution_count": 947,
      "outputs": []
    },
    {
      "cell_type": "code",
      "metadata": {
        "colab": {
          "base_uri": "https://localhost:8080/"
        },
        "id": "wa4-j15LoKho",
        "outputId": "457f598c-35a4-4bd7-dcb1-618db892b13d"
      },
      "source": [
        "mse(true_y,pred_y).numpy()"
      ],
      "execution_count": 948,
      "outputs": [
        {
          "output_type": "execute_result",
          "data": {
            "text/plain": [
              "1.1092663925997333"
            ]
          },
          "metadata": {},
          "execution_count": 948
        }
      ]
    }
  ]
}